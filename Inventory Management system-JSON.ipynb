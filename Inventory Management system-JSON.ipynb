{
 "cells": [
  {
   "cell_type": "code",
   "execution_count": 12,
   "id": "b4a73689-edc6-4bff-96ab-75447997f3b6",
   "metadata": {},
   "outputs": [
    {
     "data": {
      "text/plain": [
       "{1001: {'Name': '5 Star', 'Price': 10, 'Qn': 200},\n",
       " 1002: {'Name': 'Bar-One', 'Price': 20, 'Qn': 100},\n",
       " 1003: {'Name': 'Candy', 'Price': 2, 'Qn': 1000},\n",
       " 1004: {'Name': 'Chocolate Cake', 'Price': 550, 'Qn': 8},\n",
       " 1005: {'Name': 'Blueberry Cake', 'Price': 650, 'Qn': 5}}"
      ]
     },
     "execution_count": 12,
     "metadata": {},
     "output_type": "execute_result"
    }
   ],
   "source": [
    "record"
   ]
  },
  {
   "cell_type": "code",
   "execution_count": 53,
   "id": "53538236-1da4-4cdb-9508-02e27746f24f",
   "metadata": {},
   "outputs": [
    {
     "name": "stdout",
     "output_type": "stream",
     "text": [
      "-----------------MENU------------------------\n",
      "\n",
      "1001 : 5 Star \t| 10 \t| 196\n",
      "1002 : Bar-One \t| 20 \t| 96\n",
      "1003 : Candy \t| 2 \t| 997\n",
      "1004 : Chocolate Cake \t| 550 \t| 8\n",
      "1005 : Blueberry Cake \t| 650 \t| 5\n",
      "------------------------------------------\n",
      "\n"
     ]
    },
    {
     "name": "stdin",
     "output_type": "stream",
     "text": [
      "Enter your name : rakshitha\n",
      "Enter Mail ID  : rakshu@gmail.com\n",
      "Enter Phone No : 5637892266\n",
      "Enter Product ID : 1003\n",
      "Enter Quantity   : 1\n"
     ]
    },
    {
     "name": "stdout",
     "output_type": "stream",
     "text": [
      "-------------------------------------\n",
      "\n",
      "              Bill                     \n",
      "Name            :  Candy\n",
      "Price           :  2 Rs\n",
      "Quantity        :  1\n",
      "-----------------------------------------\n",
      "Billing Amount  :  2 Rs\n",
      "-----------------------------------------\n",
      "\n",
      "------------------------------------------\n",
      "Thanks for your order, Inventory updated! \n",
      "------------------------------------------\n"
     ]
    }
   ],
   "source": [
    "# Importing Libraries\n",
    "import json\n",
    "import time\n",
    "\n",
    "# Initializing Variable\n",
    "sale = ''\n",
    "\n",
    "# Loading the Inventory Records from JSON to String\n",
    "fd = open('Records.json','r')\n",
    "js = fd.read()\n",
    "fd.close()\n",
    "\n",
    "# Converting String Records to JSON/Dictionaries\n",
    "record = json.loads(js)\n",
    "\n",
    "# Display Menu\n",
    "print(\"-----------------MENU------------------------\\n\")\n",
    "\n",
    "for key in record.keys():\n",
    "    print(key,\":\", record[key]['Name'],\"\\t|\", record[key]['Price'],\"\\t|\", record[key]['Qn'])\n",
    "print(\"------------------------------------------\\n\")\n",
    "\n",
    "# Taking User Inputs about the Purchase and User Details\n",
    "ui_name = str(input(\"Enter your name :\"))\n",
    "ui_mail = str(input(\"Enter Mail ID  :\"))\n",
    "ui_ph = str(input(\"Enter Phone No :\"))\n",
    "ui_pr = str(input(\"Enter Product ID :\"))\n",
    "ui_qn = int(input(\"Enter Quantity   :\"))\n",
    "\n",
    "# If we're having equal or more quantity then the user want\n",
    "if (record[ui_pr]['Qn'] >= ui_qn):\n",
    "\n",
    "    # Displaying Purchase Details\n",
    "   \n",
    "    print(\"-------------------------------------\\n\")\n",
    "    print(\"              Bill                     \")\n",
    "    print(\"Name            : \" ,record[ui_pr]['Name'])\n",
    "    print(\"Price           : \" ,record[ui_pr]['Price'],\"Rs\")\n",
    "    print(\"Quantity        : \" ,ui_qn)\n",
    "    print(\"-----------------------------------------\")\n",
    "    print(\"Billing Amount  : \" ,record[ui_pr]['Price'] * ui_qn,\"Rs\")\n",
    "    print(\"-----------------------------------------\")\n",
    "\n",
    "    # Generating Sales Structure in txt\n",
    "    sale =  ui_name+\",\"+ ui_mail+\",\"+ ui_ph+\",\"+ ui_pr+\",\"+ record[ui_pr]['Name']+\",\"+ str(ui_qn)+\",\"+str(record[ui_pr]['Price'])+\",\"+ str(ui_qn*record[ui_pr]['Price'])+\",\"+ time.ctime() + '\\n'\n",
    "\n",
    "     # Updating records dictionary\n",
    "    record[ui_pr]['Qn'] = record[ui_pr]['Qn'] - ui_qn \n",
    "    \n",
    "# If we are not having enough quantity\n",
    "else:\n",
    "\n",
    "    # Displaying Info about the quantity\n",
    "    print(\"\\n--------------------------------------\")\n",
    "    print(\"Sorry We're not having enough Quantity in our Inventory.\")\n",
    "    print(\"We're only having\",record[ui_pr]['Qn'],'quantity.')\n",
    "    print(\"---------------------------------------\")\n",
    "\n",
    "    # If user wants to purchas whole Quantity for that product\n",
    "    ch = str(input(\"Press Y/y to Purchase: \"))\n",
    "\n",
    "    if (ch == \"Y\" or ch ==\"y\"):\n",
    "\n",
    "        # Displaying Purchase Detail\n",
    "        print(\"-------------------------------------\\n\")\n",
    "        print(\"              Bill                     \")\n",
    "        print(\"Name            : \" ,record[ui_pr]['Name'])\n",
    "        print(\"Price           : \" ,record[ui_pr]['Price'],\"Rs\")\n",
    "        print(\"Quantity        : \" ,record[ui_pr]['Qn'])\n",
    "        print(\"-----------------------------------------\")\n",
    "        print(\"Billing Amount  : \" ,record[ui_pr]['Price'] * record[ui_pr]['Qn'],\"Rs\")\n",
    "        print(\"-----------------------------------------\")\n",
    "\n",
    "        sales =  ui_name+\",\"+ ui_mail+\",\"+ ui_ph+\",\"+ ui_pr+\",\"+ record[ui_pr]['Name']+\",\"+ str(record[ui_pr]['Qn'])+\",\"+str(record[ui_pr]['Price'])+\",\"+ str(record[ui_pr]['Qn']*record[ui_pr]['Price'])+\",\"+ time.ctime() + \"\\n\"\n",
    "        \n",
    "        # Updating Records dictionary\n",
    "        record[ui_pr]['Qn'] = 0\n",
    "\n",
    "    # If user pressed anything other than Y/y\n",
    "    else:\n",
    "        print(\"Thanks!\")\n",
    "        \n",
    "# Converting Dictionary to String\n",
    "js = json.dumps(record)\n",
    "\n",
    "# Saving Records in JSON file\n",
    "fd = open(\"Records.json\",'w')\n",
    "fd.write(js)\n",
    "fd.close()\n",
    "\n",
    "# Saving Records in sales file\n",
    "fd = open('Mysales.txt','a')\n",
    "fd.write(sale)\n",
    "fd.close()\n",
    "\n",
    "print('')\n",
    "print(\"------------------------------------------\")\n",
    "print(\"Thanks for your order, Inventory updated! \")\n",
    "print(\"------------------------------------------\")"
   ]
  },
  {
   "cell_type": "code",
   "execution_count": null,
   "id": "c519f5cc-e5e5-484a-a6cd-a29d23b8d47f",
   "metadata": {},
   "outputs": [],
   "source": []
  }
 ],
 "metadata": {
  "kernelspec": {
   "display_name": "Python 3 (ipykernel)",
   "language": "python",
   "name": "python3"
  },
  "language_info": {
   "codemirror_mode": {
    "name": "ipython",
    "version": 3
   },
   "file_extension": ".py",
   "mimetype": "text/x-python",
   "name": "python",
   "nbconvert_exporter": "python",
   "pygments_lexer": "ipython3",
   "version": "3.12.7"
  }
 },
 "nbformat": 4,
 "nbformat_minor": 5
}
